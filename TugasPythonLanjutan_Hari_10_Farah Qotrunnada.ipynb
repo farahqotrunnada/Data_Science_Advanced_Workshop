{
 "cells": [
  {
   "cell_type": "code",
   "execution_count": 1,
   "metadata": {},
   "outputs": [],
   "source": [
    "from openpyxl import Workbook\n",
    "\n",
    "wb = Workbook()\n",
    "ws = wb.active"
   ]
  },
  {
   "cell_type": "code",
   "execution_count": 2,
   "metadata": {},
   "outputs": [],
   "source": [
    "from urllib.request import urlopen, Request\n",
    "from bs4 import BeautifulSoup\n",
    "\n",
    "alamat = \"https://pokemondb.net/pokedex/all\"\n",
    "safeAdd = Request(alamat, headers={'User-Agent': 'Mozilla/5.0'})\n",
    "html = urlopen(safeAdd)\n",
    "data = BeautifulSoup(html, 'html.parser')"
   ]
  },
  {
   "cell_type": "code",
   "execution_count": 3,
   "metadata": {},
   "outputs": [],
   "source": [
    "table = data.findAll(\"table\",{\"class\":\"data-table block-wide\"})[0]\n",
    "rows=table.findAll('tr')\n",
    "\n",
    "row_data=[]\n",
    "for row in rows:\n",
    "    column= []\n",
    "    if row.contents[1].get_text()=='013':\n",
    "        break\n",
    "    for cell in row.findAll([\"td\", \"th\"]):\n",
    "        column.append(cell.get_text())\n",
    "    row_data.append(column)\n",
    "\n",
    "for item in row_data:\n",
    "    ws.append(item)"
   ]
  },
  {
   "cell_type": "code",
   "execution_count": 4,
   "metadata": {},
   "outputs": [],
   "source": [
    "wb.save('TugasPythonLanjutan_Hari_10_Farah Qotrunnada.xlsx')"
   ]
  }
 ],
 "metadata": {
  "kernelspec": {
   "display_name": "Python 3",
   "language": "python",
   "name": "python3"
  },
  "language_info": {
   "codemirror_mode": {
    "name": "ipython",
    "version": 3
   },
   "file_extension": ".py",
   "mimetype": "text/x-python",
   "name": "python",
   "nbconvert_exporter": "python",
   "pygments_lexer": "ipython3",
   "version": "3.7.4"
  }
 },
 "nbformat": 4,
 "nbformat_minor": 2
}
